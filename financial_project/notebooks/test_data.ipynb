{
 "cells": [
  {
   "cell_type": "code",
   "execution_count": 1,
   "metadata": {
    "collapsed": true,
    "ExecuteTime": {
     "end_time": "2023-08-01T18:01:20.394127Z",
     "start_time": "2023-08-01T18:01:20.185038Z"
    }
   },
   "outputs": [],
   "source": [
    "import json\n",
    "import pandas as pd"
   ]
  },
  {
   "cell_type": "code",
   "execution_count": 2,
   "outputs": [],
   "source": [
    "from financial_project.utils.constants import PROJECT_PATH, DATA_PATH"
   ],
   "metadata": {
    "collapsed": false,
    "ExecuteTime": {
     "end_time": "2023-08-01T18:01:20.612598Z",
     "start_time": "2023-08-01T18:01:20.610282Z"
    }
   }
  },
  {
   "cell_type": "code",
   "execution_count": 3,
   "outputs": [
    {
     "name": "stdout",
     "output_type": "stream",
     "text": [
      "/Users/davidzumaquero/GitHub/alpas-coding-challenge/financial_project/data\n"
     ]
    }
   ],
   "source": [
    "print(DATA_PATH)"
   ],
   "metadata": {
    "collapsed": false,
    "ExecuteTime": {
     "end_time": "2023-08-01T18:01:21.145336Z",
     "start_time": "2023-08-01T18:01:21.142456Z"
    }
   }
  },
  {
   "cell_type": "code",
   "execution_count": 4,
   "outputs": [],
   "source": [
    "\n",
    "with open(f\"{DATA_PATH}/financial_data.json\") as f:\n",
    "    data_json = json.load(f)\n"
   ],
   "metadata": {
    "collapsed": false,
    "ExecuteTime": {
     "end_time": "2023-08-01T18:01:24.339439Z",
     "start_time": "2023-08-01T18:01:24.335844Z"
    }
   }
  },
  {
   "cell_type": "code",
   "execution_count": 5,
   "outputs": [
    {
     "data": {
      "text/plain": "{'pnl': {'MXN': {'currency': 'MXN',\n   'data': {'Assets': {'2011-12-31': 9611.92,\n     '2012-12-31': 14215.32,\n     '2013-12-31': 14392.43,\n     '2014-12-31': 12649.41,\n     '2015-12-31': 12759.69,\n     '2016-12-31': 11994.0,\n     '2017-12-31': 11455.62,\n     '2018-12-31': 19827.88,\n     '2019-12-31': 18267.42},\n    'Cash and Cash Equiv.': {'2011-12-31': 3164.4,\n     '2012-12-31': 8174.59,\n     '2013-12-31': 8528.63,\n     '2014-12-31': 468.4,\n     '2015-12-31': 511.8,\n     '2016-12-31': 275.1,\n     '2017-12-31': 974.65,\n     '2018-12-31': 4385.22,\n     '2019-12-31': 462.78},\n    'EBIT': {'2011-12-31': 425.04,\n     '2012-12-31': 2078.02,\n     '2013-12-31': 4513.86,\n     '2014-12-31': 3660.82,\n     '2015-12-31': 2371.96,\n     '2016-12-31': 1062.58,\n     '2017-12-31': 1339.25,\n     '2018-12-31': 3787.84,\n     '2019-12-31': 4223.21},\n    'EBITDA': {'2011-12-31': 882.99,\n     '2012-12-31': 2399.9,\n     '2013-12-31': 4852.92,\n     '2014-12-31': 4171.33,\n     '2015-12-31': 2771.2,\n     '2016-12-31': 1580.6,\n     '2017-12-31': 1815.23,\n     '2018-12-31': 4302.3,\n     '2019-12-31': 4832.44},\n    'Gross Profit': {'2011-12-31': 12777.17,\n     '2012-12-31': 16696.61,\n     '2013-12-31': 20064.63,\n     '2014-12-31': 21261.8,\n     '2015-12-31': 20069.26,\n     '2016-12-31': 23283.58,\n     '2017-12-31': 5413.45,\n     '2018-12-31': 26874.73,\n     '2019-12-31': 28892.87},\n    'Liabilities': {'2011-12-31': 4715.53,\n     '2012-12-31': 8718.47,\n     '2013-12-31': 7678.76,\n     '2014-12-31': 4991.5,\n     '2015-12-31': 5999.62,\n     '2016-12-31': 5109.8,\n     '2017-12-31': 4303.45,\n     '2018-12-31': 11560.84,\n     '2019-12-31': 8872.21},\n    'Net Income (after Tax)': {'2011-12-31': 180.27,\n     '2012-12-31': 1321.97,\n     '2013-12-31': 2816.62,\n     '2014-12-31': 2274.01,\n     '2015-12-31': 211.86,\n     '2016-12-31': 148.87,\n     '2017-12-31': 529.3,\n     '2018-12-31': 2420.11,\n     '2019-12-31': 2623.67},\n    'Total Current Assets (Pvt)': {'2011-12-31': 7305.84,\n     '2012-12-31': 11710.5,\n     '2013-12-31': 11712.82,\n     '2014-12-31': 9819.47,\n     '2015-12-31': 10746.38,\n     '2016-12-31': 9308.03,\n     '2017-12-31': 8701.37,\n     '2018-12-31': 17273.13,\n     '2019-12-31': 15587.97},\n    'Revenue': {'2011-12-31': 30520.04,\n     '2012-12-31': 47468.32,\n     '2013-12-31': 57888.2,\n     '2014-12-31': 50415.58,\n     '2015-12-31': 55230.9,\n     '2016-12-31': 69160.86,\n     '2017-12-31': 15701.32,\n     '2018-12-31': 79005.99,\n     '2019-12-31': 74318.8}},\n   'unit': 'Thousands'}}}"
     },
     "execution_count": 5,
     "metadata": {},
     "output_type": "execute_result"
    }
   ],
   "source": [
    "data_json\n"
   ],
   "metadata": {
    "collapsed": false,
    "ExecuteTime": {
     "end_time": "2023-08-01T18:01:25.787966Z",
     "start_time": "2023-08-01T18:01:25.783180Z"
    }
   }
  },
  {
   "cell_type": "code",
   "execution_count": 6,
   "outputs": [],
   "source": [
    "data_df = pd.DataFrame(data_json[\"pnl\"][\"MXN\"][\"data\"])\n",
    "currency = data_json[\"pnl\"][\"MXN\"][\"currency\"]\n",
    "unit = data_json[\"pnl\"][\"MXN\"][\"unit\"]\n",
    "\n"
   ],
   "metadata": {
    "collapsed": false,
    "ExecuteTime": {
     "end_time": "2023-08-01T18:01:27.671915Z",
     "start_time": "2023-08-01T18:01:27.669055Z"
    }
   }
  },
  {
   "cell_type": "code",
   "execution_count": 9,
   "outputs": [
    {
     "name": "stdout",
     "output_type": "stream",
     "text": [
      "Help on method melt in module pandas.core.frame:\n",
      "\n",
      "melt(id_vars=None, value_vars=None, var_name=None, value_name: 'Hashable' = 'value', col_level: 'Level' = None, ignore_index: 'bool' = True) -> 'DataFrame' method of pandas.core.frame.DataFrame instance\n",
      "    Unpivot a DataFrame from wide to long format, optionally leaving identifiers set.\n",
      "    \n",
      "    This function is useful to massage a DataFrame into a format where one\n",
      "    or more columns are identifier variables (`id_vars`), while all other\n",
      "    columns, considered measured variables (`value_vars`), are \"unpivoted\" to\n",
      "    the row axis, leaving just two non-identifier columns, 'variable' and\n",
      "    'value'.\n",
      "    \n",
      "    Parameters\n",
      "    ----------\n",
      "    id_vars : tuple, list, or ndarray, optional\n",
      "        Column(s) to use as identifier variables.\n",
      "    value_vars : tuple, list, or ndarray, optional\n",
      "        Column(s) to unpivot. If not specified, uses all columns that\n",
      "        are not set as `id_vars`.\n",
      "    var_name : scalar\n",
      "        Name to use for the 'variable' column. If None it uses\n",
      "        ``frame.columns.name`` or 'variable'.\n",
      "    value_name : scalar, default 'value'\n",
      "        Name to use for the 'value' column.\n",
      "    col_level : int or str, optional\n",
      "        If columns are a MultiIndex then use this level to melt.\n",
      "    ignore_index : bool, default True\n",
      "        If True, original index is ignored. If False, the original index is retained.\n",
      "        Index labels will be repeated as necessary.\n",
      "    \n",
      "        .. versionadded:: 1.1.0\n",
      "    \n",
      "    Returns\n",
      "    -------\n",
      "    DataFrame\n",
      "        Unpivoted DataFrame.\n",
      "    \n",
      "    See Also\n",
      "    --------\n",
      "    melt : Identical method.\n",
      "    pivot_table : Create a spreadsheet-style pivot table as a DataFrame.\n",
      "    DataFrame.pivot : Return reshaped DataFrame organized\n",
      "        by given index / column values.\n",
      "    DataFrame.explode : Explode a DataFrame from list-like\n",
      "            columns to long format.\n",
      "    \n",
      "    Notes\n",
      "    -----\n",
      "    Reference :ref:`the user guide <reshaping.melt>` for more examples.\n",
      "    \n",
      "    Examples\n",
      "    --------\n",
      "    >>> df = pd.DataFrame({'A': {0: 'a', 1: 'b', 2: 'c'},\n",
      "    ...                    'B': {0: 1, 1: 3, 2: 5},\n",
      "    ...                    'C': {0: 2, 1: 4, 2: 6}})\n",
      "    >>> df\n",
      "       A  B  C\n",
      "    0  a  1  2\n",
      "    1  b  3  4\n",
      "    2  c  5  6\n",
      "    \n",
      "    >>> df.melt(id_vars=['A'], value_vars=['B'])\n",
      "       A variable  value\n",
      "    0  a        B      1\n",
      "    1  b        B      3\n",
      "    2  c        B      5\n",
      "    \n",
      "    >>> df.melt(id_vars=['A'], value_vars=['B', 'C'])\n",
      "       A variable  value\n",
      "    0  a        B      1\n",
      "    1  b        B      3\n",
      "    2  c        B      5\n",
      "    3  a        C      2\n",
      "    4  b        C      4\n",
      "    5  c        C      6\n",
      "    \n",
      "    The names of 'variable' and 'value' columns can be customized:\n",
      "    \n",
      "    >>> df.melt(id_vars=['A'], value_vars=['B'],\n",
      "    ...         var_name='myVarname', value_name='myValname')\n",
      "       A myVarname  myValname\n",
      "    0  a         B          1\n",
      "    1  b         B          3\n",
      "    2  c         B          5\n",
      "    \n",
      "    Original index values can be kept around:\n",
      "    \n",
      "    >>> df.melt(id_vars=['A'], value_vars=['B', 'C'], ignore_index=False)\n",
      "       A variable  value\n",
      "    0  a        B      1\n",
      "    1  b        B      3\n",
      "    2  c        B      5\n",
      "    0  a        C      2\n",
      "    1  b        C      4\n",
      "    2  c        C      6\n",
      "    \n",
      "    If you have multi-index columns:\n",
      "    \n",
      "    >>> df.columns = [list('ABC'), list('DEF')]\n",
      "    >>> df\n",
      "       A  B  C\n",
      "       D  E  F\n",
      "    0  a  1  2\n",
      "    1  b  3  4\n",
      "    2  c  5  6\n",
      "    \n",
      "    >>> df.melt(col_level=0, id_vars=['A'], value_vars=['B'])\n",
      "       A variable  value\n",
      "    0  a        B      1\n",
      "    1  b        B      3\n",
      "    2  c        B      5\n",
      "    \n",
      "    >>> df.melt(id_vars=[('A', 'D')], value_vars=[('B', 'E')])\n",
      "      (A, D) variable_0 variable_1  value\n",
      "    0      a          B          E      1\n",
      "    1      b          B          E      3\n",
      "    2      c          B          E      5\n",
      "\n"
     ]
    }
   ],
   "source": [
    "help(data_df.melt)"
   ],
   "metadata": {
    "collapsed": false,
    "ExecuteTime": {
     "end_time": "2023-08-01T17:48:56.568744Z",
     "start_time": "2023-08-01T17:48:56.566288Z"
    }
   }
  },
  {
   "cell_type": "code",
   "execution_count": 16,
   "outputs": [
    {
     "data": {
      "text/plain": "          date financial_measure    amount\n0   2011-12-31            Assets   9611.92\n1   2012-12-31            Assets  14215.32\n2   2013-12-31            Assets  14392.43\n3   2014-12-31            Assets  12649.41\n4   2015-12-31            Assets  12759.69\n..         ...               ...       ...\n76  2015-12-31           Revenue  55230.90\n77  2016-12-31           Revenue  69160.86\n78  2017-12-31           Revenue  15701.32\n79  2018-12-31           Revenue  79005.99\n80  2019-12-31           Revenue  74318.80\n\n[81 rows x 3 columns]",
      "text/html": "<div>\n<style scoped>\n    .dataframe tbody tr th:only-of-type {\n        vertical-align: middle;\n    }\n\n    .dataframe tbody tr th {\n        vertical-align: top;\n    }\n\n    .dataframe thead th {\n        text-align: right;\n    }\n</style>\n<table border=\"1\" class=\"dataframe\">\n  <thead>\n    <tr style=\"text-align: right;\">\n      <th></th>\n      <th>date</th>\n      <th>financial_measure</th>\n      <th>amount</th>\n    </tr>\n  </thead>\n  <tbody>\n    <tr>\n      <th>0</th>\n      <td>2011-12-31</td>\n      <td>Assets</td>\n      <td>9611.92</td>\n    </tr>\n    <tr>\n      <th>1</th>\n      <td>2012-12-31</td>\n      <td>Assets</td>\n      <td>14215.32</td>\n    </tr>\n    <tr>\n      <th>2</th>\n      <td>2013-12-31</td>\n      <td>Assets</td>\n      <td>14392.43</td>\n    </tr>\n    <tr>\n      <th>3</th>\n      <td>2014-12-31</td>\n      <td>Assets</td>\n      <td>12649.41</td>\n    </tr>\n    <tr>\n      <th>4</th>\n      <td>2015-12-31</td>\n      <td>Assets</td>\n      <td>12759.69</td>\n    </tr>\n    <tr>\n      <th>...</th>\n      <td>...</td>\n      <td>...</td>\n      <td>...</td>\n    </tr>\n    <tr>\n      <th>76</th>\n      <td>2015-12-31</td>\n      <td>Revenue</td>\n      <td>55230.90</td>\n    </tr>\n    <tr>\n      <th>77</th>\n      <td>2016-12-31</td>\n      <td>Revenue</td>\n      <td>69160.86</td>\n    </tr>\n    <tr>\n      <th>78</th>\n      <td>2017-12-31</td>\n      <td>Revenue</td>\n      <td>15701.32</td>\n    </tr>\n    <tr>\n      <th>79</th>\n      <td>2018-12-31</td>\n      <td>Revenue</td>\n      <td>79005.99</td>\n    </tr>\n    <tr>\n      <th>80</th>\n      <td>2019-12-31</td>\n      <td>Revenue</td>\n      <td>74318.80</td>\n    </tr>\n  </tbody>\n</table>\n<p>81 rows × 3 columns</p>\n</div>"
     },
     "execution_count": 16,
     "metadata": {},
     "output_type": "execute_result"
    }
   ],
   "source": [
    "financial_data =data_df.melt(value_vars = data_df.columns,ignore_index=False, var_name = \"financial_measure\", value_name = \"amount\").reset_index(names= \"date\")"
   ],
   "metadata": {
    "collapsed": false,
    "ExecuteTime": {
     "end_time": "2023-08-01T17:53:24.233706Z",
     "start_time": "2023-08-01T17:53:24.231750Z"
    }
   }
  },
  {
   "cell_type": "code",
   "execution_count": null,
   "outputs": [],
   "source": [],
   "metadata": {
    "collapsed": false
   }
  }
 ],
 "metadata": {
  "kernelspec": {
   "display_name": "Python 3",
   "language": "python",
   "name": "python3"
  },
  "language_info": {
   "codemirror_mode": {
    "name": "ipython",
    "version": 2
   },
   "file_extension": ".py",
   "mimetype": "text/x-python",
   "name": "python",
   "nbconvert_exporter": "python",
   "pygments_lexer": "ipython2",
   "version": "2.7.6"
  }
 },
 "nbformat": 4,
 "nbformat_minor": 0
}
